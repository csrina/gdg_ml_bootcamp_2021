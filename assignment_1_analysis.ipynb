{
  "nbformat": 4,
  "nbformat_minor": 0,
  "metadata": {
    "colab": {
      "name": "32ceed89-bbbd-4c18-8275-eea7a8ded2d53823MLBootcamp21_Week_1_Python_ML_Assignment.ipynb",
      "provenance": [],
      "collapsed_sections": [],
      "include_colab_link": true
    },
    "kernelspec": {
      "display_name": "Python 3",
      "language": "python",
      "name": "python3"
    },
    "language_info": {
      "codemirror_mode": {
        "name": "ipython",
        "version": 3
      },
      "file_extension": ".py",
      "mimetype": "text/x-python",
      "name": "python",
      "nbconvert_exporter": "python",
      "pygments_lexer": "ipython3",
      "version": "3.7.4"
    }
  },
  "cells": [
    {
      "cell_type": "markdown",
      "metadata": {
        "id": "view-in-github",
        "colab_type": "text"
      },
      "source": [
        "<a href=\"https://colab.research.google.com/github/csrina/gdg_ml_bootcamp_2021/blob/main/assignment_1_analysis.ipynb\" target=\"_parent\"><img src=\"https://colab.research.google.com/assets/colab-badge.svg\" alt=\"Open In Colab\"/></a>"
      ]
    },
    {
      "cell_type": "markdown",
      "metadata": {
        "id": "K8fheoknnQok"
      },
      "source": [
        "# ML Bootcamp 2021 - Week 1: Assignment\n",
        "\n",
        "- Please Read the Instructions very very carefully.\n",
        "- Name the variables exactly as is mentioned in the comments\n",
        "- Failure to do so would result in the grader marking the values wrongly\n",
        "- If the comment asks you to name the variable 'a' then name it 'a' and not 'A'\n",
        "- ****Please do not remove any missing values from the dataset for the following calculations****"
      ]
    },
    {
      "cell_type": "markdown",
      "metadata": {
        "id": "_kFWo_XYtPWQ"
      },
      "source": [
        "## Q1. Create a list of integers starting from 1 to 100,000 where each number is squared."
      ]
    },
    {
      "cell_type": "code",
      "metadata": {
        "id": "8Y4YHeD-tbQ2"
      },
      "source": [
        "# Write your code below the comments in this cell\n",
        "# Important\n",
        "# Save you list in a variable called 'squared_integers'\n",
        "# Example: squared_integers = [1, 4, 9, 16, 25, 36,....., 100000000]\n",
        "squared_integers = [x**2 for x in range(1,100000)]"
      ],
      "execution_count": null,
      "outputs": []
    },
    {
      "cell_type": "markdown",
      "metadata": {
        "id": "fBUIIBpct1K2"
      },
      "source": [
        "## Q2. Create a function to print the maximum of two given values"
      ]
    },
    {
      "cell_type": "code",
      "metadata": {
        "id": "bWbckW9Bt-k-"
      },
      "source": [
        "# Write your code below the comments in this cell\n",
        "# Important\n",
        "# The name of the function should be max_two_numbers\n",
        "# The function SHOULD ONLY return EXACTLY 1 value which is the maximum of the two numbers\n",
        "# You only need to define the function, Do Not Call the function\n",
        "def max_two_numbers(num1, num2):\n",
        "  if num1 > num2: return num1\n",
        "  else: return num2"
      ],
      "execution_count": null,
      "outputs": []
    },
    {
      "cell_type": "markdown",
      "metadata": {
        "id": "xL361QXRiyNd"
      },
      "source": [
        "## Q3. How many columns and rows are there in the test dataset?"
      ]
    },
    {
      "cell_type": "code",
      "metadata": {
        "id": "xwq4uB7ziXMo"
      },
      "source": [
        "import numpy as np\n",
        "import pandas as pd\n",
        "import re\n",
        "df_test = pd.read_csv(\"./data/test.csv\")\n",
        "df_train = pd.read_csv(\"./data/train.csv\")\n"
      ],
      "execution_count": 4,
      "outputs": []
    },
    {
      "cell_type": "code",
      "metadata": {
        "id": "QPrapo99ijPi",
        "colab": {
          "base_uri": "https://localhost:8080/"
        },
        "outputId": "cadf3607-cecd-43c6-986e-79fda5bca1af"
      },
      "source": [
        "# Write your code below the comments in this cell\n",
        "# Important\n",
        "# Save your row value in a variable called 'row'\n",
        "# Save your columns value in a variable called 'col'\n",
        "row = df_test.shape[0]\n",
        "col = df_test.shape[1]"
      ],
      "execution_count": null,
      "outputs": [
        {
          "output_type": "stream",
          "text": [
            "418 11\n"
          ],
          "name": "stdout"
        }
      ]
    },
    {
      "cell_type": "markdown",
      "metadata": {
        "id": "_yYLUBzdlIub"
      },
      "source": [
        "## Q4. What is the youngest and oldest Age recorded on the ship (Train dataset)?"
      ]
    },
    {
      "cell_type": "code",
      "metadata": {
        "id": "_hInu0U-lGnS"
      },
      "source": [
        "# Write your code below the comments in this cell\n",
        "# Important\n",
        "# Save your youngest Age value in a variable called 'age_youngest'\n",
        "# Save your oldest Age value in a variable called 'age_oldest'\n",
        "age_youngest = df_train['Age'].min()\n",
        "age_oldest = df_train['Age'].max()"
      ],
      "execution_count": null,
      "outputs": []
    },
    {
      "cell_type": "markdown",
      "metadata": {
        "id": "pBDlQErdlrA2"
      },
      "source": [
        "## Q5. What are the proportions of male and female passengers (Train dataset)?"
      ]
    },
    {
      "cell_type": "code",
      "metadata": {
        "id": "99j8gKn9lmj6"
      },
      "source": [
        "# Write your code below the comments in this cell\n",
        "# Important\n",
        "# Save the integer number for female passengers in a variable called 'female_count'\n",
        "# Save the integer number for male passengers in a variable called 'male_count'\n",
        "female_count = df_train[df_train['Sex'] == 'female'].shape[0]\n",
        "male_count =  df_train[df_train['Sex'] == 'male']['Sex'].count()"
      ],
      "execution_count": null,
      "outputs": []
    },
    {
      "cell_type": "markdown",
      "metadata": {
        "id": "VBC-D9JUmfgG"
      },
      "source": [
        "## Q6. What is the average ticket price per Passenger Ticket Class(Train dataset) ?"
      ]
    },
    {
      "cell_type": "code",
      "metadata": {
        "id": "yVw9ygrJmd2L"
      },
      "source": [
        "# Write your code below the comments in this cell\n",
        "# Important\n",
        "# Save the value for each ticket class as a variable called \"p_classnumber_avg_fare\" (Eg: p_1_avg_fare)\n",
        "# Once you get your final answers, use the function \"round(answer,2)\" exactly as is to round the answer to two decimal places.\n",
        "# Inside the round() function make sure to put the value with all its decimal places, then round() will properly round it down two 2 decimal places\n",
        "p_1_avg_fare = round(df_train[df_train['Pclass'] == 1]['Fare'].mean(), 2) \n",
        "p_2_avg_fare = round(df_train[df_train['Pclass'] == 2]['Fare'].mean(), 2)\n",
        "p_3_avg_fare = round(df_train[df_train['Pclass'] == 3]['Fare'].mean(), 2)"
      ],
      "execution_count": null,
      "outputs": []
    },
    {
      "cell_type": "markdown",
      "metadata": {
        "id": "lshoMAFpnPXH"
      },
      "source": [
        "## Q7. Explore the 'Names' feature and find out how many titles are present? A title stands for 'Mr', 'Miss', 'Dr' etc. appended before any person's name (Train dataset). \n",
        "- Hint: Check the \"Strings\" part of the tutorial notebook"
      ]
    },
    {
      "cell_type": "code",
      "metadata": {
        "id": "lNRO_sL-qFVU",
        "colab": {
          "base_uri": "https://localhost:8080/"
        },
        "outputId": "907a0272-dc86-46cd-aca2-06a89054f918"
      },
      "source": [
        "# Write your code below the comments in this cell\n",
        "# Important\n",
        "# Your output should be a dictionary called 'title_count'\n",
        "# Each key of the dictionary is the name of the title as is, Eg: Mr, Miss, Mrs, etc.\n",
        "# Value of each key is the number of times that that particular title has occurred\n",
        "# Example output\n",
        "# {'Mr':5,'Capt':20,'Miss':12 and so on}\n",
        "title_count = {}\n",
        "title_count.update({x : df_train[df_train['Title'] == x]['Title'].count() for x in df_train['Name'].apply(lambda x: re.findall(',\\ \\w+\\s?\\w+\\.', x)[0][2:]).unique()})\n",
        "title_count"
      ],
      "execution_count": 18,
      "outputs": [
        {
          "output_type": "execute_result",
          "data": {
            "text/plain": [
              "{'Capt.': 1,\n",
              " 'Col.': 2,\n",
              " 'Don.': 1,\n",
              " 'Dr.': 7,\n",
              " 'Jonkheer.': 1,\n",
              " 'Lady.': 1,\n",
              " 'Major.': 2,\n",
              " 'Master.': 40,\n",
              " 'Miss.': 182,\n",
              " 'Mlle.': 2,\n",
              " 'Mme.': 1,\n",
              " 'Mr.': 517,\n",
              " 'Mrs.': 125,\n",
              " 'Ms.': 1,\n",
              " 'Rev.': 6,\n",
              " 'Sir.': 1,\n",
              " 'the Countess.': 1}"
            ]
          },
          "metadata": {
            "tags": []
          },
          "execution_count": 18
        }
      ]
    },
    {
      "cell_type": "code",
      "metadata": {
        "id": "ubo1eHChsw0Z"
      },
      "source": [
        ""
      ],
      "execution_count": null,
      "outputs": []
    }
  ]
}